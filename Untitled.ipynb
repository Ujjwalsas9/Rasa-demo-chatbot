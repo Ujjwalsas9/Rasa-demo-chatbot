{
 "cells": [
  {
   "cell_type": "code",
   "execution_count": 1,
   "metadata": {},
   "outputs": [],
   "source": [
    "import MySQLdb"
   ]
  },
  {
   "cell_type": "code",
   "execution_count": 14,
   "metadata": {},
   "outputs": [],
   "source": [
    "def read_all(idn):\n",
    "    PersonID = idn\n",
    "    # prepare a cursor object using cursor() method\n",
    "    db = MySQLdb.connect(\"localhost\",\"root\",\"root\",\"DBforChatbot\" )\n",
    "    cursor = db.cursor()\n",
    "\n",
    "    sql = \"select * from Persons WHERE PersonID = '%d';\" % (PersonID)\n",
    "    try:\n",
    "        cursor.execute(sql)\n",
    "        results = cursor.fetchall()\n",
    "        for row in results:\n",
    "            idn = row[0]\n",
    "            fname = row[1]\n",
    "            lname = row[2]\n",
    "            stockname = row[3]\n",
    "            stockbal = row[4]\n",
    "            # Now print fetched result\n",
    "            details = (\"idn=%d,fname=%s,lname=%s,stockname=%s,stockbal=%d\" % (idn, fname, lname, stockname, stockbal))\n",
    "            print(details)\n",
    "    except:\n",
    "        print (\"Error: unable to fetch data\")\n",
    "    finally:\n",
    "        db.close()"
   ]
  },
  {
   "cell_type": "code",
   "execution_count": 15,
   "metadata": {},
   "outputs": [
    {
     "name": "stdout",
     "output_type": "stream",
     "text": [
      "idn=1,fname=Anand,lname=Ujjwal,stockname=SB123,stockbal=231095\n"
     ]
    }
   ],
   "source": [
    "read_all(1)"
   ]
  },
  {
   "cell_type": "code",
   "execution_count": 1,
   "metadata": {},
   "outputs": [],
   "source": [
    "import MySQLdb\n",
    "def read_bal(idn):\n",
    "    # prepare a cursor object using cursor() method\n",
    "    db = MySQLdb.connect(\"localhost\",\"root\",\"root\",\"DBforChatbot\" )\n",
    "    cursor = db.cursor()\n",
    "    sql = \"select StockName, StockBalance from Persons WHERE PersonID = '%d';\" % (idn)\n",
    "    try:\n",
    "        cursor.execute(sql)\n",
    "        if cursor.execute(sql)==0:\n",
    "            print(\"Sorry, could not find any relevant data. Please contact 1234 for further assistance.\")\n",
    "        results = cursor.fetchall()\n",
    "        #print(\"results: \", results)\n",
    "        not all(results)\n",
    "        for row in results:\n",
    "            stockname = row[0]\n",
    "            stockbal = row[1]\n",
    "            # Now print fetched result\n",
    "            details = (\"stockname=%s,stockbal=%d\" % (stockname,stockbal))\n",
    "            print(details)\n",
    "    except:\n",
    "        print (\"Error: unable to fetch data\")\n",
    "    finally:\n",
    "        db.close()"
   ]
  },
  {
   "cell_type": "code",
   "execution_count": 2,
   "metadata": {},
   "outputs": [
    {
     "name": "stdout",
     "output_type": "stream",
     "text": [
      "stockname=SB123,stockbal=231095\n",
      "stockname=sb123,stockbal=231095\n"
     ]
    }
   ],
   "source": [
    "read_bal(1)"
   ]
  },
  {
   "cell_type": "code",
   "execution_count": 10,
   "metadata": {},
   "outputs": [
    {
     "name": "stdout",
     "output_type": "stream",
     "text": [
      "Error: unable to fetch data\n"
     ]
    }
   ],
   "source": [
    "db = MySQLdb.connect(\"localhost\",\"root\",\"root\",\"DBforChatbot\")\n",
    "cursor = db.cursor()\n",
    "PersonID = 1\n",
    "q = \"select StockName, StockBalance from Persons WHERE PersonID = '%d';\" % (1)\n",
    "try:\n",
    "    cursor.execute(q)\n",
    "    if cursor.execute(q)==0:\n",
    "        print(\"Sorry, could not find any relevant data. Please contact 1234 for further assistance.\")\n",
    "    results = cursor.fetchall()\n",
    "    dispatcher.utter_message(\"hahaha\")\n",
    "    #print(\"results: \", results)\n",
    "    not all(results)\n",
    "    for row in results:\n",
    "        stockname = row[0]\n",
    "        stockbal = row[1]\n",
    "        # Now print fetched result\n",
    "        details = (\"stockname=%s,stockbal=%d\" % (stockname,stockbal))\n",
    "        print(\"ahahaha\")\n",
    "        print(details)\n",
    "except:\n",
    "    print (\"Error: unable to fetch data\")\n",
    "finally:\n",
    "    db.close()"
   ]
  },
  {
   "cell_type": "code",
   "execution_count": 9,
   "metadata": {},
   "outputs": [
    {
     "data": {
      "text/plain": [
       "\"select StockName, StockBalance from Persons WHERE PersonID = '1';\""
      ]
     },
     "execution_count": 9,
     "metadata": {},
     "output_type": "execute_result"
    }
   ],
   "source": [
    "q"
   ]
  },
  {
   "cell_type": "code",
   "execution_count": 3,
   "metadata": {},
   "outputs": [],
   "source": [
    "def run(tracker=1): \n",
    "    db = MySQLdb.connect(\"localhost\",\"root\",\"root\",\"DBforChatbot\")\n",
    "    cursor = db.cursor()\n",
    "    PersonID = tracker\n",
    "    q = \"select StockName, StockBalance from Persons WHERE PersonID = '%d';\" % (PersonID)\n",
    "    try:\n",
    "        cursor.execute(q)\n",
    "        if cursor.execute(q)==0:\n",
    "            print(\"Sorry, could not find any relevant data. Please contact 1234 for further assistance.\")\n",
    "        results = cursor.fetchall()\n",
    "        dispatcher.utter_message(\"hahaha\")\n",
    "        #print(\"results: \", results)\n",
    "        not all(results)\n",
    "        for row in results:\n",
    "            stockname = row[0]\n",
    "            stockbal = row[1]\n",
    "            # Now print fetched result\n",
    "            details = (\"stockname=%s,stockbal=%d\" % (stockname,stockbal))\n",
    "            print(\"ahahaha\")\n",
    "            print(details)\n",
    "    except:\n",
    "        print (\"Error: unable to fetch data\")\n",
    "    finally:\n",
    "        db.close()"
   ]
  },
  {
   "cell_type": "code",
   "execution_count": 7,
   "metadata": {},
   "outputs": [
    {
     "name": "stdout",
     "output_type": "stream",
     "text": [
      "Sorry, could not find any relevant data. Please contact 1234 for further assistance.\n",
      "Error: unable to fetch data\n"
     ]
    }
   ],
   "source": [
    "run(tracker=200)"
   ]
  }
 ],
 "metadata": {
  "kernelspec": {
   "display_name": "Python 3",
   "language": "python",
   "name": "python3"
  },
  "language_info": {
   "codemirror_mode": {
    "name": "ipython",
    "version": 3
   },
   "file_extension": ".py",
   "mimetype": "text/x-python",
   "name": "python",
   "nbconvert_exporter": "python",
   "pygments_lexer": "ipython3",
   "version": "3.6.7"
  }
 },
 "nbformat": 4,
 "nbformat_minor": 2
}
